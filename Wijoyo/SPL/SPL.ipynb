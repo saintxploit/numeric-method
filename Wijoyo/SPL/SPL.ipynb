{
  "nbformat": 4,
  "nbformat_minor": 0,
  "metadata": {
    "colab": {
      "provenance": []
    },
    "kernelspec": {
      "name": "python3",
      "display_name": "Python 3"
    },
    "language_info": {
      "name": "python"
    }
  },
  "cells": [
    {
      "cell_type": "markdown",
      "source": [
        "# SPL\n",
        "<hr>\n"
      ],
      "metadata": {
        "id": "-42yRnFFNJPX"
      }
    },
    {
      "cell_type": "markdown",
      "source": [
        "## 1. Dekomposisi LU"
      ],
      "metadata": {
        "id": "6-jFWOXxN7zQ"
      }
    },
    {
      "cell_type": "markdown",
      "source": [
        "Cara 1.\n",
        "\n"
      ],
      "metadata": {
        "id": "mSZZ7bOaPJ97"
      }
    },
    {
      "cell_type": "code",
      "source": [
        "# Dekomposisi\n",
        "def decomposition(A):\n",
        "  # mendapatkan jumlah baris matriks A\n",
        "  n = len(A)\n",
        "\n",
        "  # Membuat matriks kosong dari L dan U\n",
        "  L = [[0 for row in range(n)]\n",
        "       for col in range(n)]\n",
        "  U = [[0 for row in range(n)]\n",
        "       for col in range(n)]\n",
        "  \n",
        "  for p in range(n):\n",
        "    # upper matriks\n",
        "    for j in range(p,n):\n",
        "      # penjumlahan dari L(p,k)*U(k,j)\n",
        "      sum = 0\n",
        "      for k in range(p):\n",
        "        sum = sum + L[p][k]*U[k][j]\n",
        "      U[p][j] = A[p][j] - sum\n",
        "\n",
        "    # lower matriks\n",
        "    q = p\n",
        "    for i in range (q,n):\n",
        "      if (i==q):\n",
        "        # diagonal dari L\n",
        "        L[i][q]=1\n",
        "      else:\n",
        "        # penjumlahan dari L(i,k)*U(k,q)\n",
        "        sum = 0\n",
        "        for k in range(q):\n",
        "          sum = sum + L[i][k]*U[k][q]\n",
        "        L[i][q] = (A[i][q] - sum)/U[q][q]\n",
        "\n",
        "  return L, U\n",
        "\n",
        "# Tampilkan Matriks\n",
        "def show(matrix):\n",
        "  n = len(matrix)\n",
        "  for row in range(n):\n",
        "    for col in range(n):\n",
        "      print('%.2f' % matrix[row][col], end=\"\\t\")\n",
        "    print(\"\")\n",
        "\n",
        "# Menghitung Matriks L dan U\n",
        "A = [[3, 2, -1],\n",
        "     [2, -2, 4],\n",
        "     [-1, 3, -1]]\n",
        "\n",
        "# menghitung L and U     \n",
        "L, U = decomposition(A)\n",
        "\n",
        "# nemapilkan L and U\n",
        "print(\"Matrix L :\")\n",
        "show(L)\n",
        "\n",
        "print(\"\\nMatrix U :\")\n",
        "show(U)\n",
        "\n",
        "# A = LU\n",
        "print(\"A:\")\n",
        "show(A)\n",
        "\n",
        "LU = np.dot(L,U)\n",
        "print(\"\\nL.U:\")\n",
        "show(LU)"
      ],
      "metadata": {
        "id": "FGeP9-qiOAKT",
        "colab": {
          "base_uri": "https://localhost:8080/"
        },
        "outputId": "893b4a4b-c2e0-43b7-e81d-434d4d961328"
      },
      "execution_count": 4,
      "outputs": [
        {
          "output_type": "stream",
          "name": "stdout",
          "text": [
            "Matrix L :\n",
            "1.00\t0.00\t0.00\t\n",
            "0.67\t1.00\t0.00\t\n",
            "-0.33\t-1.10\t1.00\t\n",
            "\n",
            "Matrix U :\n",
            "3.00\t2.00\t-1.00\t\n",
            "0.00\t-3.33\t4.67\t\n",
            "0.00\t0.00\t3.80\t\n",
            "A:\n",
            "3.00\t2.00\t-1.00\t\n",
            "2.00\t-2.00\t4.00\t\n",
            "-1.00\t3.00\t-1.00\t\n",
            "\n",
            "L.U:\n",
            "3.00\t2.00\t-1.00\t\n",
            "2.00\t-2.00\t4.00\t\n",
            "-1.00\t3.00\t-1.00\t\n"
          ]
        }
      ]
    },
    {
      "cell_type": "markdown",
      "source": [
        "Cara 2"
      ],
      "metadata": {
        "id": "mmjAA2x0PxsE"
      }
    },
    {
      "cell_type": "code",
      "source": [
        "import numpy as np\n",
        "import scipy.linalg as lg\n",
        "\n",
        "A = np.array([[3, 2, -1],\n",
        "              [2, -2, 4],\n",
        "              [-1, 3, -1]])\n",
        "\n",
        "print (\"A: \")\n",
        "print (A)\n",
        "print(\"\\n\")\n",
        "\n",
        "P, L, U = lg.lu(A)\n",
        "print (\"L: \")\n",
        "print (L)\n",
        "print(\"\\n\")\n",
        "\n",
        "print (\"U: \")\n",
        "print (U)"
      ],
      "metadata": {
        "colab": {
          "base_uri": "https://localhost:8080/"
        },
        "id": "k8UGpM78P0h1",
        "outputId": "c6e1fd49-0e19-48e1-d6a5-6ff5ab50620f"
      },
      "execution_count": 1,
      "outputs": [
        {
          "output_type": "stream",
          "name": "stdout",
          "text": [
            "A: \n",
            "[[ 3  2 -1]\n",
            " [ 2 -2  4]\n",
            " [-1  3 -1]]\n",
            "\n",
            "\n",
            "L: \n",
            "[[ 1.          0.          0.        ]\n",
            " [-0.33333333  1.          0.        ]\n",
            " [ 0.66666667 -0.90909091  1.        ]]\n",
            "\n",
            "\n",
            "U: \n",
            "[[ 3.          2.         -1.        ]\n",
            " [ 0.          3.66666667 -1.33333333]\n",
            " [ 0.          0.          3.45454545]]\n"
          ]
        }
      ]
    },
    {
      "cell_type": "markdown",
      "source": [
        "## 2. Doolitle"
      ],
      "metadata": {
        "id": "GPsmojckQp4S"
      }
    },
    {
      "cell_type": "code",
      "source": [
        "# Batas maksimal upper dan lower matriks\n",
        "MAX = 100\n",
        "\n",
        "\n",
        "def luDecomposition(mat, n):\n",
        "    lower = [[0 for x in range(n)]\n",
        "             for y in range(n)]\n",
        "    upper = [[0 for x in range(n)]\n",
        "             for y in range(n)]\n",
        "\n",
        "    # Dekomposisi matriks  Upper dan Lower ke dalam triangular matrix\n",
        "    for i in range(n):\n",
        "\n",
        "        # Upper\n",
        "        for k in range(i, n):\n",
        "\n",
        "            # Summation of L(i, j) * U(j, k)\n",
        "            sum = 0\n",
        "            for j in range(i):\n",
        "                sum += (lower[i][j] * upper[j][k])\n",
        "\n",
        "            # Evaluating U(i, k)\n",
        "            upper[i][k] = mat[i][k] - sum\n",
        "\n",
        "        # Lower\n",
        "        for k in range(i, n):\n",
        "            if (i == k):\n",
        "                lower[i][i] = 1  # Diagonal as 1\n",
        "            else:\n",
        "\n",
        "                # Summation of L(k, j) * U(j, i)\n",
        "                sum = 0\n",
        "                for j in range(i):\n",
        "                    sum += (lower[k][j] * upper[j][i])\n",
        "\n",
        "                # Evaluating L(k, i)\n",
        "                lower[k][i] = int((mat[k][i] - sum) /\n",
        "                                  upper[i][i])\n",
        "\n",
        "    # Tampilan upper dan lower\n",
        "    print(\"Lower Triangular\\t\\tUpper Triangular\")\n",
        "\n",
        "    # Tampilan hasil\n",
        "    for i in range(n):\n",
        "\n",
        "        # Lower\n",
        "        for j in range(n):\n",
        "            print(lower[i][j], end=\"\\t\")\n",
        "        print(\"\", end=\"\\t\")\n",
        "\n",
        "        # Upper\n",
        "        for j in range(n):\n",
        "            print(upper[i][j], end=\"\\t\")\n",
        "        print(\"\")\n",
        "\n",
        "\n",
        "# Matriks yang digunakan\n",
        "mat = [[2, -1, -2],\n",
        "       [-4, 6, 3],\n",
        "       [-4, -2, 8]]\n",
        "\n",
        "luDecomposition(mat, 3)"
      ],
      "metadata": {
        "colab": {
          "base_uri": "https://localhost:8080/"
        },
        "id": "iw0KrC0VQsh2",
        "outputId": "bf51c05f-38ea-42a3-cd37-a878a25dc806"
      },
      "execution_count": 5,
      "outputs": [
        {
          "output_type": "stream",
          "name": "stdout",
          "text": [
            "Lower Triangular\t\tUpper Triangular\n",
            "1\t0\t0\t\t2\t-1\t-2\t\n",
            "-2\t1\t0\t\t0\t4\t-1\t\n",
            "-2\t-1\t1\t\t0\t0\t3\t\n"
          ]
        }
      ]
    },
    {
      "cell_type": "markdown",
      "source": [],
      "metadata": {
        "id": "zl8lHYWpQ0_x"
      }
    },
    {
      "cell_type": "markdown",
      "source": [
        "## 3. Gauss"
      ],
      "metadata": {
        "id": "_hvU_0UdYKgz"
      }
    },
    {
      "cell_type": "code",
      "source": [
        "from numpy import*\n",
        "# Inisialisasi Matriks\n",
        "A = array([[1.,1.,0.,3.,4],\n",
        "           [2.,1.,-1.,1.,1],\n",
        "           [3.,-1.,-1.,2.,-3],\n",
        "           [-1.,2.,3.,-1,4]])\n",
        "print (\"Matriks A=\",A)\n",
        "\n",
        "n=len(A)\n",
        "# Trianglurasisasi\n",
        "for k in range(0,n-1):\n",
        "    for i in range(k+1,n):\n",
        "        m=A[i][k]/A[k][k]\n",
        "        for j in range(0,n+1):\n",
        "            A[i][j]=A[i][j]-m*A[k][j]\n",
        "\n",
        "# Subtitusi Mundur\n",
        "X = zeros((n,1))\n",
        "X[n-1][0]=A[n-1][n]/A[n-1][n-1]\n",
        "for j in range(n-2,-1,-1):\n",
        "    S=0\n",
        "    for i in range(j+1,n):\n",
        "        S=S+A[j][i]*X[i][0]\n",
        "        X[j][0]=(A[j][n]-S)/A[j][j]\n",
        "\n",
        "print (\"X=\",X)"
      ],
      "metadata": {
        "colab": {
          "base_uri": "https://localhost:8080/"
        },
        "id": "MNK4GyO_YMls",
        "outputId": "d332c3a3-6799-4b68-deb4-7b4da8db5fa1"
      },
      "execution_count": 6,
      "outputs": [
        {
          "output_type": "stream",
          "name": "stdout",
          "text": [
            "Matriks A= [[ 1.  1.  0.  3.  4.]\n",
            " [ 2.  1. -1.  1.  1.]\n",
            " [ 3. -1. -1.  2. -3.]\n",
            " [-1.  2.  3. -1.  4.]]\n",
            "X= [[-1.]\n",
            " [ 2.]\n",
            " [ 0.]\n",
            " [ 1.]]\n"
          ]
        }
      ]
    },
    {
      "cell_type": "markdown",
      "source": [
        "Gauss Cara 2"
      ],
      "metadata": {
        "id": "as6xyyZ0aObV"
      }
    },
    {
      "cell_type": "code",
      "source": [
        "# Library\n",
        "import numpy as np\n",
        "# Matriks A dan B\n",
        "A = np.array([[1, 1, -1],\n",
        "              [1, 2, 1],\n",
        "              [2, 1, 1]], float)\n",
        "B = np.array([[-3],\n",
        "              [7],\n",
        "              [4]], float)\n",
        "# Stack Matriks Secara horizontal\n",
        "AB = np.hstack([A, B])\n",
        "print(AB)\n",
        "\n",
        "# Eliminasi Gauss\n",
        "n = len(B)\n",
        "for p in range(0, n-1):\n",
        "  for q in range(p+1, n):\n",
        "    lam= AB[p,p] / AB[q,p]\n",
        "    AB[q] = AB[p] - lam * AB[q]\n",
        "print(\"\\nEliminasi Gauss:\\n\", AB)\n",
        "\n",
        "# Subtitusi\n",
        "for p in range(n-1, -1, -1):\n",
        "  AB[p] = AB[p] / AB[p,p]\n",
        "  for q in range(p - 1, -1, -1):\n",
        "    lam = AB[p, p] / AB[q, p]\n",
        "    AB[q] = AB[p] - lam * AB[q]\n",
        "print(\"\\nSubtitusi:\\n\", AB)\n",
        "\n",
        "# Hasil\n",
        "hasil = AB[:, 3]\n",
        "print(\"\\nHasil:\\n[X, Y, Z] =\", hasil)"
      ],
      "metadata": {
        "colab": {
          "base_uri": "https://localhost:8080/"
        },
        "id": "T8Oqbxh8aPv2",
        "outputId": "b2b5b04b-0dd7-4cc3-e8b1-73ddce0c9e91"
      },
      "execution_count": 8,
      "outputs": [
        {
          "output_type": "stream",
          "name": "stdout",
          "text": [
            "[[ 1.  1. -1. -3.]\n",
            " [ 1.  2.  1.  7.]\n",
            " [ 2.  1.  1.  4.]]\n",
            "\n",
            "Eliminasi Gauss:\n",
            " [[  1.   1.  -1.  -3.]\n",
            " [  0.  -1.  -2. -10.]\n",
            " [  0.   0.  -5. -20.]]\n",
            "\n",
            "Subtitusi:\n",
            " [[ 1. -0.  0. -1.]\n",
            " [-0.  1. -0.  2.]\n",
            " [-0. -0.  1.  4.]]\n",
            "\n",
            "Hasil:\n",
            "[X, Y, Z] = [-1.  2.  4.]\n"
          ]
        }
      ]
    }
  ]
}