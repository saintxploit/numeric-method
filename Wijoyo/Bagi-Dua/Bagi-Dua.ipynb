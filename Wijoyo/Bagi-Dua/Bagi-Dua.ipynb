{
  "nbformat": 4,
  "nbformat_minor": 0,
  "metadata": {
    "colab": {
      "provenance": []
    },
    "kernelspec": {
      "name": "python3",
      "display_name": "Python 3"
    },
    "language_info": {
      "name": "python"
    }
  },
  "cells": [
    {
      "cell_type": "markdown",
      "source": [
        "# Bagi Dua"
      ],
      "metadata": {
        "id": "B7ktqXSobfdk"
      }
    },
    {
      "cell_type": "markdown",
      "source": [
        "## Cara 1."
      ],
      "metadata": {
        "id": "uIGGc0RybiZq"
      }
    },
    {
      "cell_type": "code",
      "source": [
        "# Library\n",
        "import numpy as np\n",
        "import matplotlib.pyplot as plt\n",
        "\n",
        "# Bisection (Bagi Dua)\n",
        "def my_bisection(f, a, b, e, N, i):\n",
        "  # f(a) dan f(b) bertanda sama berarti tidak ada akar\n",
        "  if np.sign(f(a)) == np.sign(f(b)):\n",
        "    raise Exception('Tidak ada akar pada interval a dan b')\n",
        "\n",
        "  if (i < N):\n",
        "    m = (a + b)/2\n",
        "    print('|f(m)| = ',abs(f(m)))\n",
        "    plt.plot(m, f(m), 'o')\n",
        "    # Jika |f(m)| Lebih kecil dari nilai galat, return m\n",
        "    if np.abs(f(m)) < e:\n",
        "      plt.plot(m, f(m), marker=\"o\", markersize=15, markeredgecolor=\"red\", markerfacecolor=\"green\")\n",
        "      return m\n",
        "    # Jika Tanda f(a) == f(m) => f(a) = f(m)\n",
        "    elif np.sign(f(a)) == np.sign(f(m)):\n",
        "      i += 1\n",
        "      return my_bisection(f, m, b, e, N, i)\n",
        "    # Jika Tanda f(b) == f(m) => f(b) = f(m)\n",
        "    elif np.sign(f(b)) == np.sign(f(m)):\n",
        "      i += 1\n",
        "      return my_bisection(f, a, m, e, N, i)\n",
        "  else:\n",
        "    print('Diluar Batas (N)')\n",
        " \n",
        "\n",
        "fInput = input(\"Masukan Fungsi: \") # Input Fungsi Matematika\n",
        "f = eval(\"lambda x:\" + fInput) # Ubah Fungsi Matematika Input (text) menjadi Fungsi Matematika sesungguhnya dengan fungsi eval python\n",
        "a, b = input(\"Masukan interval a dan b (ex: 0,5 atau 0.1,0.2): \").split(\",\") # Interval a dan b\n",
        "# Type Cast\n",
        "newA = float(a)\n",
        "newB = float(b)\n",
        "e = float(input(\"Masukan galat (e), contoh: 0.001: \"))\n",
        "N = int(input(\"Masukan maksimum iterasi (N): \")) # Total Iterasi\n",
        "\n",
        "# Panggil Fungsi Bisection dan Tampilkan Hasilnya\n",
        "x_root = my_bisection(f, newA, newB, e, N, 0)\n",
        "print(\"Akar pada interval a dan b: \", x_root)\n",
        "\n",
        "plt.show()\n"
      ],
      "metadata": {
        "colab": {
          "base_uri": "https://localhost:8080/",
          "height": 682
        },
        "id": "rbLtBYxtc55k",
        "outputId": "ce47be8b-0aeb-412c-cf74-1feb86d5e6aa"
      },
      "execution_count": 25,
      "outputs": [
        {
          "output_type": "stream",
          "name": "stdout",
          "text": [
            "Masukan Fungsi: x**3+x**2-3\n",
            "Masukan interval a dan b (ex: 0,5 atau 0.1,0.2): 0.25,1.75\n",
            "Masukan galat (e), contoh: 0.001: 0.00001\n",
            "Masukan maksimum iterasi (N): 25\n",
            "|f(m)| =  1.0\n",
            "|f(m)| =  1.490234375\n",
            "|f(m)| =  0.084716796875\n",
            "|f(m)| =  0.495269775390625\n",
            "|f(m)| =  0.21499252319335938\n",
            "|f(m)| =  0.06760549545288086\n",
            "|f(m)| =  0.00793391466140747\n",
            "|f(m)| =  0.02999062091112137\n",
            "|f(m)| =  0.011067136190831661\n",
            "|f(m)| =  0.0015763159608468413\n",
            "|f(m)| =  0.0031763718725414947\n",
            "|f(m)| =  0.0007994212337507633\n",
            "|f(m)| =  0.0003885990256549121\n",
            "|f(m)| =  0.00020537318621904888\n",
            "|f(m)| =  9.1622398887381e-05\n",
            "|f(m)| =  5.687302383750037e-05\n",
            "|f(m)| =  1.737527997747179e-05\n",
            "|f(m)| =  1.9748723816270797e-05\n",
            "|f(m)| =  1.1866848907970962e-06\n",
            "Akar pada interval a dan b:  1.1745595932006836\n"
          ]
        },
        {
          "output_type": "display_data",
          "data": {
            "text/plain": [
              "<Figure size 432x288 with 1 Axes>"
            ],
            "image/png": "[encoded data removed]"
          },
          "metadata": {
            "needs_background": "light"
          }
        }
      ]
    },
    {
      "cell_type": "markdown",
      "source": [
        "## Cara 2."
      ],
      "metadata": {
        "id": "5-sTaLSWkHdi"
      }
    },
    {
      "cell_type": "code",
      "source": [
        "# bisection method,\n",
        "\n",
        "def inputdata(a,b):\n",
        "    a = float(input(\"Masukan data awal a : \"))\n",
        "    b = float(input(\"Masukan data awal b : \"))\n",
        "    return (a,b)\n",
        "\n",
        "def y(x):\n",
        "    return (x**3-(7*x)+1)\n",
        "\n",
        "def checkAB(a,b):\n",
        "    if(y(a)*y(b)<0):\n",
        "        return True\n",
        "    else:\n",
        "        return False\n",
        "\n",
        "def updateData(a,b):\n",
        "    c = (a+b)/2\n",
        "    if(y(a)*y(c)<0):\n",
        "        b = c\n",
        "    else :\n",
        "        a = c\n",
        "    return (a,b)\n",
        "\n",
        "def process(a,b,prc):\n",
        "    while(abs(y(a))>prc or abs(y(b))>prc):\n",
        "        a,b = updateData(a,b)\n",
        "\n",
        "    if(abs(y(a))>abs(y(b))):\n",
        "        return b\n",
        "    else:\n",
        "        return a\n",
        "    # return (a,b)\n",
        "   \n",
        "\n",
        "def main():\n",
        "    a = 0\n",
        "    b = 0\n",
        "    prc = 0\n",
        "    result = 0\n",
        "    a,b = inputdata(a,b)\n",
        "    if(checkAB(a,b)):\n",
        "        print (\"Data sesuai bisa dilanjutkan\")\n",
        "        prc = float(input(\"Masukan nilai presisinya : \"))\n",
        "        result = process(a,b,prc)\n",
        "        print (\"Hasil = \",result,\" Dengan nilai y(x) \",y(result))\n",
        "    else:\n",
        "        print (\"Data tidak sesuai tidak bisa dilanjutkan\")\n",
        "main()"
      ],
      "metadata": {
        "colab": {
          "base_uri": "https://localhost:8080/"
        },
        "id": "2qvzeT2YkLfZ",
        "outputId": "40de27f2-04bf-42e9-ce5f-51391a7fc0e3"
      },
      "execution_count": 29,
      "outputs": [
        {
          "output_type": "stream",
          "name": "stdout",
          "text": [
            "Masukan data awal a : 0\n",
            "Masukan data awal b : 1\n",
            "Data sesuai bisa dilanjutkan\n",
            "Masukan nilai presisinya : 10\n",
            "Hasil =  0.0  Dengan nilai y(x)  1.0\n"
          ]
        }
      ]
    },
    {
      "cell_type": "markdown",
      "source": [
        "## Cara 3."
      ],
      "metadata": {
        "id": "U3rErNeMnr8o"
      }
    },
    {
      "cell_type": "code",
      "source": [
        "import numpy as np\n",
        "import matplotlib.pyplot as plt\n",
        "import seaborn as sns\n",
        "%matplotlib inline\n",
        "sns.set()\n",
        "\n",
        "f = lambda x: x**3+x**2-3\n",
        "a = 0.5\n",
        "b = 1.75\n",
        "x_a = 0.75\n",
        "x_b = 1.5\n",
        "x_c = 1.17455941029298\n",
        "\n",
        "x = np.arange(a,b,0.1)\n",
        "\n",
        "fig = plt.figure(figsize=(10,6))\n",
        "ax  = plt.axes(xlim=(a,b),ylim=(min(f(x)),max(f(x))))\n",
        "\n",
        "plt.yticks([],[])\n",
        "\n",
        "\n",
        "ax.spines[\"bottom\"].set_position((\"data\", 0))\n",
        "ax.spines[\"bottom\"].set_color('black')\n",
        "ax.plot(1, 0, \">k\", transform=ax.get_yaxis_transform(), clip_on=False)\n",
        "\n",
        "sns.lineplot(x=x, y=f(x))\n",
        "\n",
        "ax.plot([x_a],[0], 'ko')\n",
        "ax.plot([x_a],[f(x_a)], 'ko')\n",
        "ax.plot([x_a,x_a],[0,f(x_a)], 'black')\n",
        "ax.text(x=x_a-0.05, y=0+0.2, s=\"a\", \n",
        "                 color='black', fontsize=18, horizontalalignment='left')\n",
        "ax.text(x=x_a-0.08, y=f(x_a)+0.2, s=\"f(a)\", \n",
        "                 color='black', fontsize=18, horizontalalignment='left')\n",
        "\n",
        "ax.plot([x_b],[0], 'ko')\n",
        "ax.plot([x_b],[f(x_b)], 'ko')\n",
        "ax.plot([x_b,x_b],[0,f(x_b)], 'black')\n",
        "ax.text(x=x_b-0.05, y=0+0.2, s=\"b\", \n",
        "                 color='black', fontsize=18, horizontalalignment='left')\n",
        "ax.text(x=x_b-0.08, y=f(x_b)+0.2, s=\"f(b)\", \n",
        "                 color='black', fontsize=18, horizontalalignment='left')\n",
        "ax.plot(x_c,f(x_c), 'ro', markersize=15)\n",
        "ax.text(x=x_c-0.05, y=0+0.3, s=\"c\", \n",
        "                 color='black', fontsize=18, horizontalalignment='left')\n",
        "\n",
        "\n",
        "plt.show()"
      ],
      "metadata": {
        "colab": {
          "base_uri": "https://localhost:8080/",
          "height": 357
        },
        "id": "ZxKAzZVXntcV",
        "outputId": "2d2c8b6a-7d04-4f12-adfa-a834a538cf3c"
      },
      "execution_count": 31,
      "outputs": [
        {
          "output_type": "display_data",
          "data": {
            "text/plain": [
              "<Figure size 720x432 with 1 Axes>"
            ],
            "image/png": "[encoded data removed]"
          },
          "metadata": {}
        }
      ]
    }
  ]
}