{
  "cells": [
    {
      "cell_type": "markdown",
      "metadata": {
        "id": "2bDV6_dFCi4M"
      },
      "source": []
    },
    {
      "cell_type": "code",
      "execution_count": null,
      "metadata": {
        "colab": {
          "base_uri": "https://localhost:8080/"
        },
        "id": "L0ghhIzDCkfM",
        "outputId": "afea0dda-6f0d-4a35-967e-0733c49ae35a"
      },
      "outputs": [
        {
          "name": "stdout",
          "output_type": "stream",
          "text": [
            "silakan masukkan titik x di mana Anda ingin menginterpolasi nilai: 0.5\n",
            "silakan masukkan nilai x sebagai values seperti [1, 1.1, 1.2, 1.3]: [0.0, 0.4, 0.8]\n",
            "silakan masukkan nilai y sebagai values seperti  [0.3413, 0.3643, 0.3843, 0.4032]: [1.00, 0.921, 0.697]\n",
            "interpolated values is:  0.8785937500000002\n"
          ]
        }
      ],
      "source": [
        "# Library\n",
        "import numpy as np\n",
        "import matplotlib.pyplot as plt\n",
        "\n",
        "def multiply(array):  # Kalikan item dalam list (list/result = monomials)\n",
        "    result = 1\n",
        "    for number in array:\n",
        "        result = result * number\n",
        "    return result\n",
        "\n",
        "\n",
        "def term_generator(index, length, x, given_x_values):  # generating term (polinomial expression) of the interpolation function\n",
        "    term = list()\n",
        "    for i in range(length):\n",
        "        if index != i:\n",
        "            term.append((x - given_x_values[i])/(given_x_values[index] - given_x_values[i]))\n",
        "    return multiply(term)\n",
        "\n",
        "# Interpolasi Lagrange\n",
        "def lagrange_interpolation(x, given_x_values, given_y_values):\n",
        "    # Jika X dan Y sama \n",
        "    if len(given_x_values) == len(given_y_values):\n",
        "        count_of_points = len(given_x_values)\n",
        "        result = list()\n",
        "        for i in range(count_of_points):\n",
        "            result.append(term_generator(i, count_of_points, x, given_x_values) * given_y_values[i])\n",
        "        return sum(result)\n",
        "    # Jika Tidak \n",
        "    else:\n",
        "        return \"Jumlah Y dan X harus sama!\"\n",
        "\n",
        "\n",
        "given_point = float(input(\"silakan masukkan titik x di mana Anda ingin menginterpolasi nilai: \"))\n",
        "x_values = eval(input(\"silakan masukkan nilai x sebagai values seperti [1, 1.1, 1.2, 1.3]: \"))\n",
        "y_values = eval(input(\"silakan masukkan nilai y sebagai values seperti  [0.3413, 0.3643, 0.3843, 0.4032]: \"))\n",
        "result = lagrange_interpolation(given_point, x_values, y_values)\n",
        "print(\"interpolated values is: \", result)\n",
        "\n",
        "\n",
        "x_new = np.linspace(x_values[0], x_values[len(x_values)-1], len(x_values)-1)\n",
        "y_new = np.linspace(y_values[0], y_values[len(y_values)-1], len(y_values)-1)\n",
        "\n",
        "fig = plt.figure(figsize = (10,8))\n",
        "plt.plot(x_new, y_new)\n",
        "plt.plot(given_point, result, marker=\"o\", markersize=20, markeredgecolor=\"red\", markerfacecolor=\"green\")\n",
        "plt.title('Lagrange Basis Polynomials')\n",
        "plt.xlabel('x')\n",
        "plt.ylabel('y')\n",
        "plt.grid()\n",
        "\n",
        "# Tampilkan Grafik\n",
        "plt.show()"
      ]
    }
  ],
  "metadata": {
    "colab": {
      "provenance": []
    },
    "kernelspec": {
      "display_name": "Python 3",
      "language": "python",
      "name": "python3"
    },
    "language_info": {
      "name": "python",
      "version": "3.10.7 (tags/v3.10.7:6cc6b13, Sep  5 2022, 14:08:36) [MSC v.1933 64 bit (AMD64)]"
    },
    "vscode": {
      "interpreter": {
        "hash": "f2ccb58c476f33ba3e3aee7ac07234ef6b8217ef24ad64d2a7d4fed1a57c1cd2"
      }
    }
  },
  "nbformat": 4,
  "nbformat_minor": 0
}
