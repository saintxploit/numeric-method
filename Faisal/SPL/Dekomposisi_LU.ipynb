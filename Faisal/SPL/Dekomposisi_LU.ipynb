{
  "nbformat": 4,
  "nbformat_minor": 0,
  "metadata": {
    "colab": {
      "provenance": []
    },
    "kernelspec": {
      "name": "python3",
      "display_name": "Python 3"
    },
    "language_info": {
      "name": "python"
    }
  },
  "cells": [
    {
      "cell_type": "markdown",
      "source": [
        "Cara 1"
      ],
      "metadata": {
        "id": "SEKnLnyajtKz"
      }
    },
    {
      "cell_type": "code",
      "execution_count": 2,
      "metadata": {
        "colab": {
          "base_uri": "https://localhost:8080/"
        },
        "id": "DpOdjVZ0jWHA",
        "outputId": "a54495ad-6fb0-420b-cfd2-305441fb6532"
      },
      "outputs": [
        {
          "output_type": "stream",
          "name": "stdout",
          "text": [
            "Matrix L :\n",
            "1.00\t0.00\t0.00\t\n",
            "0.67\t1.00\t0.00\t\n",
            "-0.33\t-1.10\t1.00\t\n",
            "\n",
            "Matrix U :\n",
            "3.00\t2.00\t-1.00\t\n",
            "0.00\t-3.33\t4.67\t\n",
            "0.00\t0.00\t3.80\t\n",
            "A:\n",
            "3.00\t2.00\t-1.00\t\n",
            "2.00\t-2.00\t4.00\t\n",
            "-1.00\t3.00\t-1.00\t\n",
            "\n",
            "L.U:\n",
            "3.00\t2.00\t-1.00\t\n",
            "2.00\t-2.00\t4.00\t\n",
            "-1.00\t3.00\t-1.00\t\n"
          ]
        }
      ],
      "source": [
        "import numpy as np\n",
        "# Dekomposisi\n",
        "def decomposition(A):\n",
        "  # mendapatkan jumlah baris matriks A\n",
        "  n = len(A)\n",
        "\n",
        "  # Membuat matriks kosong dari L dan U\n",
        "  L = [[0 for row in range(n)]\n",
        "       for col in range(n)]\n",
        "  U = [[0 for row in range(n)]\n",
        "       for col in range(n)]\n",
        "  \n",
        "  for p in range(n):\n",
        "    # upper matriks\n",
        "    for j in range(p,n):\n",
        "      # penjumlahan dari L(p,k)*U(k,j)\n",
        "      sum = 0\n",
        "      for k in range(p):\n",
        "        sum = sum + L[p][k]*U[k][j]\n",
        "      U[p][j] = A[p][j] - sum\n",
        "\n",
        "    # lower matriks\n",
        "    q = p\n",
        "    for i in range (q,n):\n",
        "      if (i==q):\n",
        "        # diagonal dari L\n",
        "        L[i][q]=1\n",
        "      else:\n",
        "        # penjumlahan dari L(i,k)*U(k,q)\n",
        "        sum = 0\n",
        "        for k in range(q):\n",
        "          sum = sum + L[i][k]*U[k][q]\n",
        "        L[i][q] = (A[i][q] - sum)/U[q][q]\n",
        "\n",
        "  return L, U\n",
        "\n",
        "# Tampilkan Matriks\n",
        "def show(matrix):\n",
        "  n = len(matrix)\n",
        "  for row in range(n):\n",
        "    for col in range(n):\n",
        "      print('%.2f' % matrix[row][col], end=\"\\t\")\n",
        "    print(\"\")\n",
        "\n",
        "# Menghitung Matriks L dan U\n",
        "A = [[3, 2, -1],\n",
        "     [2, -2, 4],\n",
        "     [-1, 3, -1]]\n",
        "\n",
        "# menghitung L and U     \n",
        "L, U = decomposition(A)\n",
        "\n",
        "# nemapilkan L and U\n",
        "print(\"Matrix L :\")\n",
        "show(L)\n",
        "\n",
        "print(\"\\nMatrix U :\")\n",
        "show(U)\n",
        "\n",
        "# A = LU\n",
        "print(\"A:\")\n",
        "show(A)\n",
        "\n",
        "LU = np.dot(L,U)\n",
        "print(\"\\nL.U:\")\n",
        "show(LU)"
      ]
    },
    {
      "cell_type": "markdown",
      "source": [
        "Cara 2"
      ],
      "metadata": {
        "id": "xKcnWzEZjnKr"
      }
    },
    {
      "cell_type": "code",
      "source": [
        "import numpy as np\n",
        "import scipy.linalg as lg\n",
        "\n",
        "A = np.array([[3, 2, -1],\n",
        "              [2, -2, 4],\n",
        "              [-1, 3, -1]])\n",
        "\n",
        "print (\"A: \")\n",
        "print (A)\n",
        "print(\"\\n\")\n",
        "\n",
        "P, L, U = lg.lu(A)\n",
        "print (\"L: \")\n",
        "print (L)\n",
        "print(\"\\n\")\n",
        "\n",
        "print (\"U: \")\n",
        "print (U)"
      ],
      "metadata": {
        "colab": {
          "base_uri": "https://localhost:8080/"
        },
        "id": "OtL-O1JnkXuy",
        "outputId": "15d7fa42-b6fd-42b4-e347-81019b2b659c"
      },
      "execution_count": 3,
      "outputs": [
        {
          "output_type": "stream",
          "name": "stdout",
          "text": [
            "A: \n",
            "[[ 3  2 -1]\n",
            " [ 2 -2  4]\n",
            " [-1  3 -1]]\n",
            "\n",
            "\n",
            "L: \n",
            "[[ 1.          0.          0.        ]\n",
            " [-0.33333333  1.          0.        ]\n",
            " [ 0.66666667 -0.90909091  1.        ]]\n",
            "\n",
            "\n",
            "U: \n",
            "[[ 3.          2.         -1.        ]\n",
            " [ 0.          3.66666667 -1.33333333]\n",
            " [ 0.          0.          3.45454545]]\n"
          ]
        }
      ]
    }
  ]
}