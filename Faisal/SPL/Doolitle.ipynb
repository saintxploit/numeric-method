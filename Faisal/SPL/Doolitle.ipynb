{
  "nbformat": 4,
  "nbformat_minor": 0,
  "metadata": {
    "colab": {
      "provenance": []
    },
    "kernelspec": {
      "name": "python3",
      "display_name": "Python 3"
    },
    "language_info": {
      "name": "python"
    }
  },
  "cells": [
    {
      "cell_type": "code",
      "execution_count": 1,
      "metadata": {
        "colab": {
          "base_uri": "https://localhost:8080/"
        },
        "id": "X_DD6mv4ki5R",
        "outputId": "10b09ef4-0402-4a2b-c96e-149937f46261"
      },
      "outputs": [
        {
          "output_type": "stream",
          "name": "stdout",
          "text": [
            "Lower Triangular\t\tUpper Triangular\n",
            "1\t0\t0\t\t2\t-1\t-2\t\n",
            "-2\t1\t0\t\t0\t4\t-1\t\n",
            "-2\t-1\t1\t\t0\t0\t3\t\n"
          ]
        }
      ],
      "source": [
        "# Batas maksimal upper dan lower matriks\n",
        "MAX = 100\n",
        "\n",
        "\n",
        "def luDecomposition(mat, n):\n",
        "    lower = [[0 for x in range(n)]\n",
        "             for y in range(n)]\n",
        "    upper = [[0 for x in range(n)]\n",
        "             for y in range(n)]\n",
        "\n",
        "    # Dekomposisi matriks  Upper dan Lower ke dalam triangular matrix\n",
        "    for i in range(n):\n",
        "\n",
        "        # Upper\n",
        "        for k in range(i, n):\n",
        "\n",
        "            # Summation of L(i, j) * U(j, k)\n",
        "            sum = 0\n",
        "            for j in range(i):\n",
        "                sum += (lower[i][j] * upper[j][k])\n",
        "\n",
        "            # Evaluating U(i, k)\n",
        "            upper[i][k] = mat[i][k] - sum\n",
        "\n",
        "        # Lower\n",
        "        for k in range(i, n):\n",
        "            if (i == k):\n",
        "                lower[i][i] = 1  # Diagonal as 1\n",
        "            else:\n",
        "\n",
        "                # Summation of L(k, j) * U(j, i)\n",
        "                sum = 0\n",
        "                for j in range(i):\n",
        "                    sum += (lower[k][j] * upper[j][i])\n",
        "\n",
        "                # Evaluating L(k, i)\n",
        "                lower[k][i] = int((mat[k][i] - sum) /\n",
        "                                  upper[i][i])\n",
        "\n",
        "    # Tampilan upper dan lower\n",
        "    print(\"Lower Triangular\\t\\tUpper Triangular\")\n",
        "\n",
        "    # Tampilan hasil\n",
        "    for i in range(n):\n",
        "\n",
        "        # Lower\n",
        "        for j in range(n):\n",
        "            print(lower[i][j], end=\"\\t\")\n",
        "        print(\"\", end=\"\\t\")\n",
        "\n",
        "        # Upper\n",
        "        for j in range(n):\n",
        "            print(upper[i][j], end=\"\\t\")\n",
        "        print(\"\")\n",
        "\n",
        "\n",
        "# Matriks yang digunakan\n",
        "mat = [[2, -1, -2],\n",
        "       [-4, 6, 3],\n",
        "       [-4, -2, 8]]\n",
        "\n",
        "luDecomposition(mat, 3)"
      ]
    }
  ]
}