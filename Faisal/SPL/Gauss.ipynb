{
 "cells": [
  {
   "attachments": {},
   "cell_type": "markdown",
   "metadata": {},
   "source": [
    "Gauss\n",
    "Cara 1"
   ]
  },
  {
   "cell_type": "code",
   "execution_count": null,
   "metadata": {},
   "outputs": [],
   "source": [
    "from numpy import*\n",
    "# Inisialisasi Matriks\n",
    "A = array([[1.,1.,0.,3.,4],\n",
    "           [2.,1.,-1.,1.,1],\n",
    "           [3.,-1.,-1.,2.,-3],\n",
    "           [-1.,2.,3.,-1,4]])\n",
    "print (\"Matriks A=\",A)\n",
    "\n",
    "n=len(A)\n",
    "# Trianglurasisasi\n",
    "for k in range(0,n-1):\n",
    "    for i in range(k+1,n):\n",
    "        m=A[i][k]/A[k][k]\n",
    "        for j in range(0,n+1):\n",
    "            A[i][j]=A[i][j]-m*A[k][j]\n",
    "\n",
    "# Subtitusi Mundur\n",
    "X = zeros((n,1))\n",
    "X[n-1][0]=A[n-1][n]/A[n-1][n-1]\n",
    "for j in range(n-2,-1,-1):\n",
    "    S=0\n",
    "    for i in range(j+1,n):\n",
    "        S=S+A[j][i]*X[i][0]\n",
    "        X[j][0]=(A[j][n]-S)/A[j][j]\n",
    "\n",
    "print (\"X=\",X)"
   ]
  },
  {
   "attachments": {},
   "cell_type": "markdown",
   "metadata": {},
   "source": [
    "Cara 2"
   ]
  },
  {
   "cell_type": "code",
   "execution_count": null,
   "metadata": {},
   "outputs": [],
   "source": [
    "# Library\n",
    "import numpy as np\n",
    "# Matriks A dan B\n",
    "A = np.array([[1, 1, -1],\n",
    "              [1, 2, 1],\n",
    "              [2, 1, 1]], float)\n",
    "B = np.array([[-3],\n",
    "              [7],\n",
    "              [4]], float)\n",
    "# Stack Matriks Secara horizontal\n",
    "AB = np.hstack([A, B])\n",
    "print(AB)\n",
    "\n",
    "# Eliminasi Gauss\n",
    "n = len(B)\n",
    "for p in range(0, n-1):\n",
    "  for q in range(p+1, n):\n",
    "    lam= AB[p,p] / AB[q,p]\n",
    "    AB[q] = AB[p] - lam * AB[q]\n",
    "print(\"\\nEliminasi Gauss:\\n\", AB)\n",
    "\n",
    "# Subtitusi\n",
    "for p in range(n-1, -1, -1):\n",
    "  AB[p] = AB[p] / AB[p,p]\n",
    "  for q in range(p - 1, -1, -1):\n",
    "    lam = AB[p, p] / AB[q, p]\n",
    "    AB[q] = AB[p] - lam * AB[q]\n",
    "print(\"\\nSubtitusi:\\n\", AB)\n",
    "\n",
    "# Hasil\n",
    "hasil = AB[:, 3]\n",
    "print(\"\\nHasil:\\n[X, Y, Z] =\", hasil)"
   ]
  }
 ],
 "metadata": {
  "language_info": {
   "name": "python"
  },
  "orig_nbformat": 4
 },
 "nbformat": 4,
 "nbformat_minor": 2
}
