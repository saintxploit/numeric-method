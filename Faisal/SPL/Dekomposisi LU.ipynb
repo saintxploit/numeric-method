{
 "cells": [
  {
   "attachments": {},
   "cell_type": "markdown",
   "metadata": {},
   "source": [
    "Dekomposisi LU\n",
    "Cara 1"
   ]
  },
  {
   "cell_type": "code",
   "execution_count": null,
   "metadata": {},
   "outputs": [],
   "source": [
    "# Dekomposisi\n",
    "def decomposition(A):\n",
    "  # mendapatkan jumlah baris matriks A\n",
    "  n = len(A)\n",
    "\n",
    "  # Membuat matriks kosong dari L dan U\n",
    "  L = [[0 for row in range(n)]\n",
    "       for col in range(n)]\n",
    "  U = [[0 for row in range(n)]\n",
    "       for col in range(n)]\n",
    "  \n",
    "  for p in range(n):\n",
    "    # upper matriks\n",
    "    for j in range(p,n):\n",
    "      # penjumlahan dari L(p,k)*U(k,j)\n",
    "      sum = 0\n",
    "      for k in range(p):\n",
    "        sum = sum + L[p][k]*U[k][j]\n",
    "      U[p][j] = A[p][j] - sum\n",
    "\n",
    "    # lower matriks\n",
    "    q = p\n",
    "    for i in range (q,n):\n",
    "      if (i==q):\n",
    "        # diagonal dari L\n",
    "        L[i][q]=1\n",
    "      else:\n",
    "        # penjumlahan dari L(i,k)*U(k,q)\n",
    "        sum = 0\n",
    "        for k in range(q):\n",
    "          sum = sum + L[i][k]*U[k][q]\n",
    "        L[i][q] = (A[i][q] - sum)/U[q][q]\n",
    "\n",
    "  return L, U\n",
    "\n",
    "# Tampilkan Matriks\n",
    "def show(matrix):\n",
    "  n = len(matrix)\n",
    "  for row in range(n):\n",
    "    for col in range(n):\n",
    "      print('%.2f' % matrix[row][col], end=\"\\t\")\n",
    "    print(\"\")\n",
    "\n",
    "# Menghitung Matriks L dan U\n",
    "A = [[3, 2, -1],\n",
    "     [2, -2, 4],\n",
    "     [-1, 3, -1]]\n",
    "\n",
    "# menghitung L and U     \n",
    "L, U = decomposition(A)\n",
    "\n",
    "# nemapilkan L and U\n",
    "print(\"Matrix L :\")\n",
    "show(L)\n",
    "\n",
    "print(\"\\nMatrix U :\")\n",
    "show(U)\n",
    "\n",
    "# A = LU\n",
    "print(\"A:\")\n",
    "show(A)\n",
    "\n",
    "LU = np.dot(L,U)\n",
    "print(\"\\nL.U:\")\n",
    "show(LU)"
   ]
  },
  {
   "attachments": {},
   "cell_type": "markdown",
   "metadata": {},
   "source": [
    "Cara 2"
   ]
  },
  {
   "cell_type": "code",
   "execution_count": null,
   "metadata": {},
   "outputs": [],
   "source": [
    "import numpy as np\n",
    "import scipy.linalg as lg\n",
    "\n",
    "A = np.array([[3, 2, -1],\n",
    "              [2, -2, 4],\n",
    "              [-1, 3, -1]])\n",
    "\n",
    "print (\"A: \")\n",
    "print (A)\n",
    "print(\"\\n\")\n",
    "\n",
    "P, L, U = lg.lu(A)\n",
    "print (\"L: \")\n",
    "print (L)\n",
    "print(\"\\n\")\n",
    "\n",
    "print (\"U: \")\n",
    "print (U)"
   ]
  }
 ],
 "metadata": {
  "language_info": {
   "name": "python"
  },
  "orig_nbformat": 4
 },
 "nbformat": 4,
 "nbformat_minor": 2
}
