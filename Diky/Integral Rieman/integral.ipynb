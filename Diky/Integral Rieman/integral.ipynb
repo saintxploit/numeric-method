{
  "nbformat": 4,
  "nbformat_minor": 0,
  "metadata": {
    "colab": {
      "provenance": []
    },
    "kernelspec": {
      "name": "python3",
      "display_name": "Python 3"
    },
    "language_info": {
      "name": "python"
    }
  },
  "cells": [
    {
      "cell_type": "markdown",
      "source": [
        "# **Integral**\n",
        "### (Riemann Sum - Divide And Conquer Method)\n",
        "\n",
        "---\n",
        "\n",
        "Anggota Kelompok:\n",
        "\n",
        "*   Abizar Razak Aryakusuma\n",
        "*   Diky Pribadi Santoso\n",
        "*   Faisal Khalik Al Furqon\n",
        "*   Ivan Septian\n",
        "*   Wijoyo Raharjo Murti Indra Wahyono "
      ],
      "metadata": {
        "id": "760dBBVqtUfM"
      }
    },
    {
      "cell_type": "code",
      "source": [
        "#import\n",
        "import numpy as np\n",
        "import matplotlib.pyplot as plt\n",
        "\n",
        "def calculate_integral(typ, fx, a, b, n, w):\n",
        "    # Jika lebar partisi sudah sesuai dengan yang diinginkan (batas atas - batas bawah <= lebar partisi)\n",
        "    if (b-a <= w):\n",
        "        # Kalkulasikan luas area sesuai dengan tipe\n",
        "        # Left/Batas Bawah\n",
        "        if typ == \"left\":\n",
        "            return fx(a) * w\n",
        "        # Mid/Nilai Tengah(Atas-Bawah/2)\n",
        "        elif typ == \"mid\":\n",
        "            return fx((a+b)/2) * w\n",
        "        # Right/Batas Atas \n",
        "        elif typ == \"right\":\n",
        "            return fx(b) * w\n",
        "        # Trapesium \n",
        "        elif typ == \"trapezoid\":\n",
        "            return (fx(a) + fx(b)) * w * 0.5\n",
        "    # Jika lebar partisi masih besar\n",
        "    else:\n",
        "        # Membagi area partisi menjadi dua \n",
        "        # hingga lebar setiap partisi sesuai dengan lebar partisi untuk jumlah partisi yang diinginkan (n)\n",
        "        # ex: rentang [0-16] menjadi 8 partisi maka setiap partisi akan memiliki lebar 2\n",
        "        # aka lebar partisi akan dibagi dua hingga lebar setiap partisi mencapai 2\n",
        "        # ex: iterasi 1 => partisi = 2, lebar = 8\n",
        "        #     iterasi 2 => partisi = 4, lebar = 4\n",
        "        #     iterasi 3 => partisi = 8, lebar = 2 -> sesuai\n",
        "        n_1 = n//2\n",
        "        n_2 = n - n_1\n",
        "        \n",
        "        # a dan b partisi 1\n",
        "        a_1 = a\n",
        "        b_1 = a + n_1 * w\n",
        "        \n",
        "        w1 = b_1 - a_1\n",
        "\n",
        "        # a dan b partisi 2\n",
        "        a_2 = b_1\n",
        "        b_2 = b\n",
        "        \n",
        "        w2 = b_2 - a_2\n",
        "\n",
        "        # Print N1 dan N2\n",
        "        print(\"Lebar Partisi 1: \", w1)\n",
        "        print(\"Lebar Partisi 2: \", w2)\n",
        "\n",
        "\n",
        "        # Algoritma rekursif\n",
        "        # Algoritma rekursif ini bertujuan untuk membagi partisi hingga lebar setiap partisi sesuai dengan yang diinginkan\n",
        "        # Luas didapat dari penjumlahan nilai setiap partisi\n",
        "        return calculate_integral(typ, fx, a_1, b_1, n_1, w) + calculate_integral(typ, fx, a_2, b_2, n_2, w)\n",
        "        \n",
        "\n",
        "def plotIntegral(typ, f, a, b, N):\n",
        "    x = np.linspace(a,b,N+1) # nilai x untuk grafik\n",
        "    y = f(x) # nilai y untuk grafik\n",
        "\n",
        "    plt.figure(figsize=(15,10)) # ukuran grafik\n",
        "\n",
        "    # Tampilkan grafik sesuai tipe\n",
        "    if typ == \"left\":\n",
        "        plt.plot(x,y,'b')\n",
        "        x_left = x[:-1] # Left endpoints\n",
        "        y_left = y[:-1]\n",
        "        plt.plot(x_left,y_left,'b.',markersize=10)\n",
        "        plt.bar(x_left,y_left,width=wid,alpha=0.2,align='edge',edgecolor='g', color='green')\n",
        "        plt.title('Left Riemann Sum, N = {}'.format(N))\n",
        "    elif typ == \"mid\":\n",
        "        plt.plot(x,y,'b')\n",
        "        x_mid = (x[:-1] + x[1:])/2 # Midpoints\n",
        "        y_mid = f(x_mid)\n",
        "        plt.plot(x_mid, y_mid,'b.',markersize=10)\n",
        "        plt.bar(x_mid, y_mid, width=wid, alpha=0.2, edgecolor='g', color='green')\n",
        "        plt.title('Midpoint Riemann Sum, N = {}'.format(N))\n",
        "    elif typ == \"right\":\n",
        "        plt.plot(x,y,'b')\n",
        "        x_right = x[1:] # Right endpoints\n",
        "        y_right = y[1:]\n",
        "        plt.plot(x_right,y_right,'b.',markersize=10)\n",
        "        plt.bar(x_right, y_right, width=-wid, alpha=0.2, align='edge', edgecolor='g', color='green')\n",
        "        plt.title('Right Riemann Sum, N = {}'.format(N))\n",
        "    elif typ == \"trapezoid\":    \n",
        "        plt.plot(x,y,'b')\n",
        "        for i in range(N):\n",
        "            x_tr = [x[i],x[i],x[i+1],x[i+1]]\n",
        "            y_tr = [0,f(x[i]),f(x[i+1]),0]\n",
        "            plt.fill(x_tr, y_tr ,'b.', edgecolor='b', alpha=0.2, color='green')\n",
        "        plt.title('Trapezoidal Rule, N = {}'.format(N))\n",
        "\n",
        "    # Tampilkan grafik \n",
        "    plt.show()\n",
        "\n",
        "# Main Program\n",
        "integral_input = input(\"Masukan Integral (ex: 2*x + 3): \")\n",
        "integral = eval(\"lambda x:\" + integral_input) # ubah integral input (text) menjadi fungsi matematika\n",
        "a = int(input(\"Batas Bawah (a): \")) # batas bawah\n",
        "b = int(input(\"Batas Atas (b): \")) # batas atas\n",
        "N = int(input(\"Masukan Jumlah Partisi (N): \")) # jumlah partisi\n",
        "tipe = (input(\"Tipe (left, right, mid, trapezoid): \")) # metode riemann\n",
        "wid = (b-a)/N # lebar partisi (dx)\n",
        "\n",
        "# Print Luas\n",
        "print(\"Luas: \", calculate_integral(tipe,integral,a,b,N,wid))\n",
        "# Jalankan Fungsi plotIntegral untuk menampilkan grafik yang bersesuaian\n",
        "plotIntegral(tipe, integral, a, b, N)"
      ],
      "metadata": {
        "colab": {
          "base_uri": "https://localhost:8080/",
          "height": 815
        },
        "id": "8B57v_oyuPn5",
        "outputId": "7d202a6b-0568-4be4-8e9f-cdace1ced56c"
      },
      "execution_count": 78,
      "outputs": [
        {
          "output_type": "stream",
          "name": "stdout",
          "text": [
            "Masukan Integral (ex: 2*x + 3): 2*x + 3\n",
            "Batas Bawah (a): 0\n",
            "Batas Atas (b): 5\n",
            "Masukan Jumlah Partisi (N): 4\n",
            "Tipe (left, right, mid, trapezoid): right\n",
            "Lebar Partisi 1:  2.5\n",
            "Lebar Partisi 2:  2.5\n",
            "Lebar Partisi 1:  1.25\n",
            "Lebar Partisi 2:  1.25\n",
            "Lebar Partisi 1:  1.25\n",
            "Lebar Partisi 2:  1.25\n",
            "Luas:  46.25\n"
          ]
        },
        {
          "output_type": "display_data",
          "data": {
            "text/plain": [
              "<Figure size 1080x720 with 1 Axes>"
            ],
            "image/png": "[encoded data removed]"
          },
          "metadata": {
            "needs_background": "light"
          }
        }
      ]
    },
    {
      "cell_type": "code",
      "source": [],
      "metadata": {
        "id": "Z2uORj73FJDm"
      },
      "execution_count": null,
      "outputs": []
    }
  ]
}
