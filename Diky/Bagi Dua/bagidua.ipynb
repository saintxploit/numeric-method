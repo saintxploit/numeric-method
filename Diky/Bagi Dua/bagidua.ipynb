def bisection(f, a, b, e=10**-4, N = 100):
  x_a = a
  x_b = b
  
  if f(x_a)*f(x_b) >= 0:
    print("Use another guess range")
    return None
  
  for n in range (1,N):
    x_m = (x_a + x_b)/2
    if abs(f(x_m)) < e:
      return x_m, n
    else:
      if f(x_a)*f(x_m) < 0:
        x_b = x_m
      elif f(x_b)*f(x_m) < 0:
        x_a = x_m
  return x_m, n


f = lambda x: x**3+x**2-3
a = 0.25
b = 1.75

x_root, iteration = bisection(f,a,b)
print('Result : ', x_root)
print('In %d iteration' %iteration)

import numpy as np
import matplotlib.pyplot as plt
import seaborn as sns
%matplotlib inline
sns.set()

f = lambda x: x**3+x**2-3
a = 0.5
b = 1.75
x_a = 0.75
x_b = 1.5
x_c = 1.17455941029298

x = np.arange(a,b,0.1)

fig = plt.figure(figsize=(10,6))
ax  = plt.axes(xlim=(a,b),ylim=(min(f(x)),max(f(x))))

plt.yticks([],[])

ax.spines["bottom"].set_position(("data", 0))
ax.spines["bottom"].set_color('black')
ax.plot(1, 0, ">k", transform=ax.get_yaxis_transform(), clip_on=False)

sns.lineplot(x=x, y=f(x))

ax.plot([x_a],[0], 'ko')
ax.plot([x_a],[f(x_a)], 'ko')
ax.plot([x_a,x_a],[0,f(x_a)], 'black')
ax.text(x=x_a-0.05, y=0+0.2, s="a", 
                 color='black', fontsize=18, horizontalalignment='left')
ax.text(x=x_a-0.08, y=f(x_a)+0.2, s="f(a)", 
                 color='black', fontsize=18, horizontalalignment='left')

ax.plot([x_b],[0], 'ko')
ax.plot([x_b],[f(x_b)], 'ko')
ax.plot([x_b,x_b],[0,f(x_b)], 'black')
ax.text(x=x_b-0.05, y=0+0.2, s="b", 
                 color='black', fontsize=18, horizontalalignment='left')
ax.text(x=x_b-0.08, y=f(x_b)+0.2, s="f(b)", 
                 color='black', fontsize=18, horizontalalignment='left')
ax.plot(x_c,f(x_c), 'ro', markersize=15)
ax.text(x=x_c-0.05, y=0+0.3, s="c", 
                 color='black', fontsize=18, horizontalalignment='left')

# plt.savefig('bisection.png', transparent=True)
# from google.colab import files
# files.download('bisection.png')

plt.show()
