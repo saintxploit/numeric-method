{
  "nbformat": 4,
  "nbformat_minor": 0,
  "metadata": {
    "colab": {
      "name": "Dekomposisi LU.ipynb",
      "provenance": []
    },
    "kernelspec": {
      "name": "python3",
      "display_name": "Python 3"
    },
    "language_info": {
      "name": "python"
    }
  },
  "cells": [
    {
      "cell_type": "markdown",
      "metadata": {
        "id": "Uqp6Wk1XV_sI"
      },
      "source": [
        "## Definisi Fungsi Dekomposisi LU"
      ]
    },
    {
      "cell_type": "code",
      "metadata": {
        "id": "kAaVe1REpGmu"
      },
      "source": [
        "def decomposition(A):\n",
        "  # mendapatkan jumlah baris matriks A\n",
        "  n = len(A)\n",
        "\n",
        "  # Membuat matriks kosong dari L dan U\n",
        "  L = [[0 for row in range(n)]\n",
        "       for col in range(n)]\n",
        "  U = [[0 for row in range(n)]\n",
        "       for col in range(n)]\n",
        "  \n",
        "  for p in range(n):\n",
        "    # upper matriks\n",
        "    for j in range(p,n):\n",
        "      # penjumlahan dari L(p,k)*U(k,j)\n",
        "      sum = 0\n",
        "      for k in range(p):\n",
        "        sum = sum + L[p][k]*U[k][j]\n",
        "      U[p][j] = A[p][j] - sum\n",
        "\n",
        "    # lower matriks\n",
        "    q = p\n",
        "    for i in range (q,n):\n",
        "      if (i==q):\n",
        "        # diagonal dari L\n",
        "        L[i][q]=1\n",
        "      else:\n",
        "        # penjumlahan dari L(i,k)*U(k,q)\n",
        "        sum = 0\n",
        "        for k in range(q):\n",
        "          sum = sum + L[i][k]*U[k][q]\n",
        "        L[i][q] = (A[i][q] - sum)/U[q][q]\n",
        "\n",
        "  return L, U"
      ],
      "execution_count": 1,
      "outputs": []
    },
    {
      "cell_type": "markdown",
      "metadata": {
        "id": "xShWDM0XWKye"
      },
      "source": [
        "## Menentukan Fungsi untuk Menampilkan Elemen Matriks"
      ]
    },
    {
      "cell_type": "code",
      "metadata": {
        "id": "AqA80IAtVuiF"
      },
      "source": [
        "def show(matrix):\n",
        "  n = len(matrix)\n",
        "  for row in range(n):\n",
        "    for col in range(n):\n",
        "      print('%.2f' % matrix[row][col], end=\"\\t\")\n",
        "    print(\"\")"
      ],
      "execution_count": 2,
      "outputs": []
    },
    {
      "cell_type": "markdown",
      "metadata": {
        "id": "2-tYpbyEWUeM"
      },
      "source": [
        "## Menghitung Matrix L and U"
      ]
    },
    {
      "cell_type": "code",
      "metadata": {
        "colab": {
          "base_uri": "https://localhost:8080/"
        },
        "id": "Lw5Z9W1c3oBh",
        "outputId": "623729d6-b44f-4f40-9087-5dfd9a4c9ddb"
      },
      "source": [
        "# matrix A\n",
        "A = [[3, 2, -1],\n",
        "     [2, -2, 4],\n",
        "     [-1, 3, -1]]\n",
        "\n",
        "# menghitung L and U     \n",
        "L, U = decomposition(A)\n",
        "\n",
        "# nemapilkan L and U\n",
        "print(\"Matrix L :\")\n",
        "show(L)\n",
        "\n",
        "print(\"\\nMatrix U :\")\n",
        "show(U)"
      ],
      "execution_count": 3,
      "outputs": [
        {
          "output_type": "stream",
          "name": "stdout",
          "text": [
            "Matrix L :\n",
            "1.00\t0.00\t0.00\t\n",
            "0.67\t1.00\t0.00\t\n",
            "-0.33\t-1.10\t1.00\t\n",
            "\n",
            "Matrix U :\n",
            "3.00\t2.00\t-1.00\t\n",
            "0.00\t-3.33\t4.67\t\n",
            "0.00\t0.00\t3.80\t\n"
          ]
        }
      ]
    },
    {
      "cell_type": "markdown",
      "metadata": {
        "id": "dGk-ZD52W8j1"
      },
      "source": [
        "## A = LU"
      ]
    },
    {
      "cell_type": "code",
      "metadata": {
        "colab": {
          "base_uri": "https://localhost:8080/"
        },
        "id": "dNIBZx2aVwp9",
        "outputId": "11b8be38-efa3-4d82-d747-910c6414fd20"
      },
      "source": [
        "import numpy as np\n",
        "\n",
        "print(\"A:\")\n",
        "show(A)\n",
        "\n",
        "LU = np.dot(L,U)\n",
        "print(\"\\nL.U:\")\n",
        "show(LU)"
      ],
      "execution_count": 4,
      "outputs": [
        {
          "output_type": "stream",
          "name": "stdout",
          "text": [
            "A:\n",
            "3.00\t2.00\t-1.00\t\n",
            "2.00\t-2.00\t4.00\t\n",
            "-1.00\t3.00\t-1.00\t\n",
            "\n",
            "L.U:\n",
            "3.00\t2.00\t-1.00\t\n",
            "2.00\t-2.00\t4.00\t\n",
            "-1.00\t3.00\t-1.00\t\n"
          ]
        }
      ]
    },
    {
      "cell_type": "markdown",
      "source": [
        "##Cara 2"
      ],
      "metadata": {
        "id": "WdahgrE6HuLj"
      }
    },
    {
      "cell_type": "code",
      "source": [
        "import numpy as np\n",
        "import scipy.linalg as lg\n",
        "\n",
        "A = np.array([[3, 2, -1],\n",
        "              [2, -2, 4],\n",
        "              [-1, 3, -1]])\n",
        "\n",
        "print (\"A: \")\n",
        "print (A)\n",
        "print(\"\\n\")\n",
        "\n",
        "P, L, U = lg.lu(A)\n",
        "print (\"L: \")\n",
        "print (L)\n",
        "print(\"\\n\")\n",
        "\n",
        "print (\"U: \")\n",
        "print (U)"
      ],
      "metadata": {
        "id": "cxxR3L9PHpJ2",
        "outputId": "67c3b2e1-b142-4512-b6b1-24406f1cc452",
        "colab": {
          "base_uri": "https://localhost:8080/"
        }
      },
      "execution_count": 4,
      "outputs": [
        {
          "output_type": "stream",
          "name": "stdout",
          "text": [
            "A: \n",
            "[[ 3  2 -1]\n",
            " [ 2 -2  4]\n",
            " [-1  3 -1]]\n",
            "\n",
            "\n",
            "L: \n",
            "[[ 1.          0.          0.        ]\n",
            " [-0.33333333  1.          0.        ]\n",
            " [ 0.66666667 -0.90909091  1.        ]]\n",
            "\n",
            "\n",
            "U: \n",
            "[[ 3.          2.         -1.        ]\n",
            " [ 0.          3.66666667 -1.33333333]\n",
            " [ 0.          0.          3.45454545]]\n"
          ]
        }
      ]
    }
  ]
}
