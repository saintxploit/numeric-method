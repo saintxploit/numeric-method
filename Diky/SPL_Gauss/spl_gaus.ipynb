{
  "nbformat": 4,
  "nbformat_minor": 0,
  "metadata": {
    "colab": {
      "provenance": []
    },
    "kernelspec": {
      "name": "python3",
      "display_name": "Python 3"
    },
    "language_info": {
      "name": "python"
    }
  },
  "cells": [
    {
      "cell_type": "code",
      "execution_count": 1,
      "metadata": {
        "colab": {
          "base_uri": "https://localhost:8080/"
        },
        "id": "3ZXDFONmGsqa",
        "outputId": "07aa46d4-7ae6-4e06-c394-3bbc534ba346"
      },
      "outputs": [
        {
          "output_type": "stream",
          "name": "stdout",
          "text": [
            "[[ 1.  1. -1. -3.]\n",
            " [ 1.  2.  1.  7.]\n",
            " [ 2.  1.  1.  4.]]\n",
            "\n",
            "Eliminasi Gauss:\n",
            " [[  1.   1.  -1.  -3.]\n",
            " [  0.  -1.  -2. -10.]\n",
            " [  0.   0.  -5. -20.]]\n",
            "\n",
            "Subtitusi:\n",
            " [[ 1. -0.  0. -1.]\n",
            " [-0.  1. -0.  2.]\n",
            " [-0. -0.  1.  4.]]\n",
            "\n",
            "Hasil:\n",
            "[X, Y, Z] = [-1.  2.  4.]\n"
          ]
        }
      ],
      "source": [
        "import numpy as np\n",
        "A = np.array([[1, 1, -1],\n",
        "              [1, 2, 1],\n",
        "              [2, 1, 1]], float)\n",
        "B = np.array([[-3],\n",
        "              [7],\n",
        "              [4]], float)\n",
        "AB = np.hstack([A, B])\n",
        "print(AB)\n",
        "\n",
        "n = len(B)\n",
        "for p in range(0, n-1):\n",
        "  for q in range(p+1, n):\n",
        "    lam= AB[p,p] / AB[q,p]\n",
        "    AB[q] = AB[p] - lam * AB[q]\n",
        "print(\"\\nEliminasi Gauss:\\n\", AB)\n",
        "\n",
        "for p in range(n-1, -1, -1):\n",
        "  AB[p] = AB[p] / AB[p,p]\n",
        "  for q in range(p - 1, -1, -1):\n",
        "    lam = AB[p, p] / AB[q, p]\n",
        "    AB[q] = AB[p] - lam * AB[q]\n",
        "print(\"\\nSubtitusi:\\n\", AB)\n",
        "\n",
        "hasil = AB[:, 3]\n",
        "print(\"\\nHasil:\\n[X, Y, Z] =\", hasil)"
      ]
    }
  ]
}
